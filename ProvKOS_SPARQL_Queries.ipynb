{
  "nbformat": 4,
  "nbformat_minor": 0,
  "metadata": {
    "colab": {
      "provenance": []
    },
    "kernelspec": {
      "name": "python3",
      "display_name": "Python 3"
    },
    "language_info": {
      "name": "python"
    }
  },
  "cells": [
    {
      "cell_type": "markdown",
      "source": [
        "# ProvKOS SPARQL Playground\n",
        "This python notebook serves as a SPARQL query playground for the ProvKOS ontology. It also serves as a quick tutorial on the basic structure and what kinds of queries ProvKOS can answer.\n",
        "\n",
        "To start, please install the owlready2 package, and have the ontology file ready."
      ],
      "metadata": {
        "id": "5MDOIFZbpALM"
      }
    },
    {
      "cell_type": "markdown",
      "source": [
        "<a target=\"_blank\" href=\"https://colab.research.google.com/github/https://colab.research.google.com/drive/1l0xReohSR6FjoythbZSIl9epGhN4OWu5?usp=sharing\">\n",
        "  <img src=\"https://colab.research.google.com/assets/colab-badge.svg\" alt=\"Open In Colab\"/>\n",
        "</a>"
      ],
      "metadata": {
        "id": "rS3POqaSiFm5"
      }
    },
    {
      "cell_type": "markdown",
      "source": [
        "# Step 0. Install the owlready2 package\n",
        "More about owlready2 can be found on: https://pypi.org/project/owlready2/"
      ],
      "metadata": {
        "id": "TVL1kkOipkf-"
      }
    },
    {
      "cell_type": "code",
      "execution_count": null,
      "metadata": {
        "colab": {
          "base_uri": "https://localhost:8080/"
        },
        "id": "NgWj24N_j41o",
        "outputId": "06e7a525-4c05-47e0-f8f0-d6f7bab1dc36"
      },
      "outputs": [
        {
          "output_type": "stream",
          "name": "stdout",
          "text": [
            "Collecting owlready2\n",
            "  Downloading owlready2-0.46.tar.gz (27.4 MB)\n",
            "\u001b[2K     \u001b[90m━━━━━━━━━━━━━━━━━━━━━━━━━━━━━━━━━━━━━━━━\u001b[0m \u001b[32m27.4/27.4 MB\u001b[0m \u001b[31m18.8 MB/s\u001b[0m eta \u001b[36m0:00:00\u001b[0m\n",
            "\u001b[?25h  Installing build dependencies ... \u001b[?25l\u001b[?25hdone\n",
            "  Getting requirements to build wheel ... \u001b[?25l\u001b[?25hdone\n",
            "  Preparing metadata (pyproject.toml) ... \u001b[?25l\u001b[?25hdone\n",
            "Building wheels for collected packages: owlready2\n",
            "  Building wheel for owlready2 (pyproject.toml) ... \u001b[?25l\u001b[?25hdone\n",
            "  Created wheel for owlready2: filename=owlready2-0.46-cp310-cp310-linux_x86_64.whl size=24087765 sha256=b2fba4f5e9b141913aeb1b4861839576b0341eccedc97ade3f1c026426975370\n",
            "  Stored in directory: /root/.cache/pip/wheels/bf/6f/ef/35df148baa59fc6b243aca4f101e17aed14b67dc1166b73fe0\n",
            "Successfully built owlready2\n",
            "Installing collected packages: owlready2\n",
            "Successfully installed owlready2-0.46\n"
          ]
        }
      ],
      "source": [
        "!pip install owlready2"
      ]
    },
    {
      "cell_type": "code",
      "source": [
        "from owlready2 import *"
      ],
      "metadata": {
        "id": "neGl0ZJTkj3d"
      },
      "execution_count": null,
      "outputs": []
    },
    {
      "cell_type": "markdown",
      "source": [
        "# Step 1. Load the ontology file\n",
        "Make sure you have the correct file path."
      ],
      "metadata": {
        "id": "PDXvvOt6qAv8"
      }
    },
    {
      "cell_type": "code",
      "source": [
        "onto = get_ontology(\"/content/drive/MyDrive/Provenance/Colab Notebooks/ProvKOS.owl\").load()\n"
      ],
      "metadata": {
        "id": "WtwHrTbVkTB0",
        "colab": {
          "base_uri": "https://localhost:8080/"
        },
        "outputId": "f35564d6-df75-4c2c-ef06-fc132bcfeb87"
      },
      "execution_count": null,
      "outputs": [
        {
          "output_type": "stream",
          "name": "stderr",
          "text": [
            "* Owlready2 * WARNING: ObjectProperty http://www.w3.org/ns/prov#wasRevisionOf belongs to more than one entity types: [owl.ObjectProperty, owl.AnnotationProperty, owl.ObjectProperty, prov.wasDerivedFrom]; I'm trying to fix it...\n",
            "* Owlready2 * WARNING: ObjectProperty http://www.w3.org/ns/prov#specializationOf belongs to more than one entity types: [owl.AnnotationProperty, owl.ObjectProperty, prov.alternateOf]; I'm trying to fix it...\n"
          ]
        }
      ]
    },
    {
      "cell_type": "markdown",
      "source": [
        "# PART I -- Basics: Examine the basic structure of the ontology\n",
        "\n",
        "\n",
        "\n",
        "*   What are the classes?\n",
        "*   What are the individuals?\n",
        "*What are the properties?\n",
        "\n"
      ],
      "metadata": {
        "id": "hc-C99NfiRE5"
      }
    },
    {
      "cell_type": "markdown",
      "source": [
        "# List all the **classes** in this ontology:"
      ],
      "metadata": {
        "id": "CZp_rWwXqcYR"
      }
    },
    {
      "cell_type": "code",
      "source": [
        "list(onto.classes())"
      ],
      "metadata": {
        "colab": {
          "base_uri": "https://localhost:8080/"
        },
        "id": "Ye1_rgXhhyLK",
        "outputId": "48e171d5-df12-4277-8369-022e0e50a36b"
      },
      "execution_count": null,
      "outputs": [
        {
          "output_type": "execute_result",
          "data": {
            "text/plain": [
              "[prov.Entity,\n",
              " ProvKOS.Warrant,\n",
              " ProvKOS.Class_number,\n",
              " skos-xl.Label,\n",
              " prov.Activity,\n",
              " prov.Agent,\n",
              " prov.Organization,\n",
              " prov.Person,\n",
              " prov.SoftwareAgent,\n",
              " ProvKOS.Document,\n",
              " ProvKOS.Expansion,\n",
              " ProvKOS.Literature,\n",
              " ProvKOS.Relocation,\n",
              " ProvKOS.Replacement,\n",
              " ProvKOS.Truncation]"
            ]
          },
          "metadata": {},
          "execution_count": 8
        }
      ]
    },
    {
      "cell_type": "markdown",
      "source": [
        "# List the **IRIs of all the classes** in this ontology:"
      ],
      "metadata": {
        "id": "GQLH_KhtqhsH"
      }
    },
    {
      "cell_type": "code",
      "source": [
        "for c in onto.classes():\n",
        "    print(c.iri)\n"
      ],
      "metadata": {
        "colab": {
          "base_uri": "https://localhost:8080/"
        },
        "id": "1djm61ZVeChO",
        "outputId": "c5530a75-b6c8-4119-ee51-6b56f055797f"
      },
      "execution_count": null,
      "outputs": [
        {
          "output_type": "stream",
          "name": "stdout",
          "text": [
            "http://www.w3.org/ns/prov#Entity\n",
            "https://w3id.org/def/ProvKOS#Warrant\n",
            "https://w3id.org/def/ProvKOS#Class_number\n",
            "http://www.w3.org/2008/05/skos-xl#Label\n",
            "http://www.w3.org/ns/prov#Activity\n",
            "http://www.w3.org/ns/prov#Agent\n",
            "http://www.w3.org/ns/prov#Organization\n",
            "http://www.w3.org/ns/prov#Person\n",
            "http://www.w3.org/ns/prov#SoftwareAgent\n",
            "https://w3id.org/def/ProvKOS#Document\n",
            "https://w3id.org/def/ProvKOS#Expansion\n",
            "https://w3id.org/def/ProvKOS#Literature\n",
            "https://w3id.org/def/ProvKOS#Relocation\n",
            "https://w3id.org/def/ProvKOS#Replacement\n",
            "https://w3id.org/def/ProvKOS#Truncation\n"
          ]
        }
      ]
    },
    {
      "cell_type": "markdown",
      "source": [
        "# List all the **individuals** in this ontology:"
      ],
      "metadata": {
        "id": "NGiKoM8uqoqo"
      }
    },
    {
      "cell_type": "code",
      "source": [
        "list(onto.individuals())"
      ],
      "metadata": {
        "colab": {
          "base_uri": "https://localhost:8080/"
        },
        "id": "uai7XpVHibUQ",
        "outputId": "6ee84d1d-3f3d-46f0-85c7-39ca95b51ca4"
      },
      "execution_count": null,
      "outputs": [
        {
          "output_type": "execute_result",
          "data": {
            "text/plain": [
              "[doi:10.4103.0253-7176.175131,\n",
              " 23.349210,\n",
              " example.org.DDC_Editoral_committee,\n",
              " example.org.EPC_144-S30.1,\n",
              " 23.349268,\n",
              " www.example.org.EPC_143-S30.1,\n",
              " 23.349269,\n",
              " 23.349291,\n",
              " example.org.EPC_144-S61.1,\n",
              " 23.349292,\n",
              " deweyldws01dxm1.dev.oclc.org.304.8,\n",
              " example.org.Movement_of_people,\n",
              " deweyldws01dxm1.dev.oclc.org.304.82,\n",
              " deweyldws01dxm1.dev.oclc.org.304.809,\n",
              " example.org.Internal_movement,\n",
              " example.org.International_movement,\n",
              " deweyldws01dxm1.dev.oclc.org.304.83-304.89,\n",
              " example.org.Immigration_to_specific_continents_countries,\n",
              " example.org.Migration,\n",
              " deweyldws01dxm1.dev.oclc.org.306.777,\n",
              " example.org.Fetishism,\n",
              " deweyldws01dxm1.dev.oclc.org.306.778,\n",
              " example.org.Transvestism,\n",
              " deweyldws01dxm1.dev.oclc.org.391.68,\n",
              " example.org.Cross_dressing,\n",
              " deweyldws01dxm1.dev.oclc.org.616.8527,\n",
              " example.org.Depressive_disorder,\n",
              " example.org.Depressive_disorder_and_dysphoria,\n",
              " deweyldws01dxm1.dev.oclc.org.616.85277,\n",
              " example.org.Gender_dysphoria,\n",
              " deweyldws01dxm1.dev.oclc.org.616.8583,\n",
              " example.org.Sexual_disorders,\n",
              " example.org.Sexual_disorders_and_gender-identity_disorders,\n",
              " example.org.DSM-5,\n",
              " example.org.KOS_Concept_2,\n",
              " example.org.KOS_Concept_3,\n",
              " paraphilic-disorders.transvestic-disorder,\n",
              " www.example.org.KOS_Concept_0,\n",
              " www.example.org.KOS_Concept_1,\n",
              " example.org.ICD-11,\n",
              " homosaurus.org.v3]"
            ]
          },
          "metadata": {},
          "execution_count": 54
        }
      ]
    },
    {
      "cell_type": "markdown",
      "source": [
        "# List all the **IRIs of all individuals** in this ontology:\n",
        "\n",
        "\n"
      ],
      "metadata": {
        "id": "ZvidfBxaqsyl"
      }
    },
    {
      "cell_type": "code",
      "source": [
        "for c in onto.individuals():\n",
        "    print(c.iri)"
      ],
      "metadata": {
        "colab": {
          "base_uri": "https://localhost:8080/"
        },
        "id": "hbTY9wuLeV_E",
        "outputId": "771f60c1-db79-4795-8fde-fa06f25ad825"
      },
      "execution_count": null,
      "outputs": [
        {
          "output_type": "stream",
          "name": "stdout",
          "text": [
            "doi:10.4103/0253-7176.175131\n",
            "http://dewey.org/distributionserver/subscriptions/feed/23/349210\n",
            "http://example.org#DDC_Editoral_committee\n",
            "http://example.org#EPC_144-S30.1\n",
            "http://dewey.org/distributionserver/subscriptions/feed/23/349268\n",
            "http://www.example.org#EPC_143-S30.1\n",
            "http://dewey.org/distributionserver/subscriptions/feed/23/349269\n",
            "http://dewey.org/distributionserver/subscriptions/feed/23/349291\n",
            "http://example.org#EPC_144-S61.1\n",
            "http://dewey.org/distributionserver/subscriptions/feed/23/349292\n",
            "http://deweyldws01dxm1.dev.oclc.org/304.8\n",
            "http://example.org#Movement_of_people\n",
            "http://deweyldws01dxm1.dev.oclc.org/304.82\n",
            "http://deweyldws01dxm1.dev.oclc.org/304.809\n",
            "http://example.org#Internal_movement\n",
            "http://example.org#International_movement\n",
            "http://deweyldws01dxm1.dev.oclc.org/304.83-304.89\n",
            "http://example.org#Immigration_to_specific_continents_countries\n",
            "http://example.org#Migration\n",
            "http://deweyldws01dxm1.dev.oclc.org/306.777\n",
            "http://example.org#Fetishism\n",
            "http://deweyldws01dxm1.dev.oclc.org/306.778\n",
            "http://example.org#Transvestism\n",
            "http://deweyldws01dxm1.dev.oclc.org/391.68\n",
            "http://example.org#Cross_dressing\n",
            "http://deweyldws01dxm1.dev.oclc.org/616.8527\n",
            "http://example.org#Depressive_disorder\n",
            "http://example.org#Depressive_disorder_and_dysphoria\n",
            "http://deweyldws01dxm1.dev.oclc.org/616.85277\n",
            "http://example.org#Gender_dysphoria\n",
            "http://deweyldws01dxm1.dev.oclc.org/616.8583\n",
            "http://example.org#Sexual_disorders\n",
            "http://example.org#Sexual_disorders_and_gender-identity_disorders\n",
            "http://example.org#DSM-5\n",
            "http://example.org#KOS_Concept_2\n",
            "http://example.org#KOS_Concept_3\n",
            "https://www.merckmanuals.com/professional/psychiatric-disorders/paraphilic-disorders/transvestic-disorder\n",
            "http://www.example.org#KOS_Concept_0\n",
            "http://www.example.org#KOS_Concept_1\n",
            "http://example.org#ICD-11\n",
            "https://homosaurus.org/v3\n"
          ]
        }
      ]
    },
    {
      "cell_type": "markdown",
      "source": [
        "# List all the **object properties** in this ontology:"
      ],
      "metadata": {
        "id": "KKhBOt27qz-6"
      }
    },
    {
      "cell_type": "code",
      "source": [
        "list(onto.object_properties())"
      ],
      "metadata": {
        "colab": {
          "base_uri": "https://localhost:8080/"
        },
        "id": "cgT49AU5ilP-",
        "outputId": "ca0fb504-f289-4154-f374-a7375c58ca42"
      },
      "execution_count": null,
      "outputs": [
        {
          "output_type": "execute_result",
          "data": {
            "text/plain": [
              "[core.inScheme,\n",
              " prov.generated,\n",
              " prov.invalidated,\n",
              " prov.wasAssociatedWith,\n",
              " prov.wasAttributedTo,\n",
              " prov.wasGeneratedBy,\n",
              " prov.wasInvalidatedBy,\n",
              " prov.wasRevisionOf,\n",
              " ProvKOS.cite,\n",
              " ProvKOS.hasLabel,\n",
              " ProvKOS.wasAuthorizedBy,\n",
              " ProvKOS.wasDeprecatedBy,\n",
              " ProvKOS.wasWarrantedBy]"
            ]
          },
          "metadata": {},
          "execution_count": 56
        }
      ]
    },
    {
      "cell_type": "markdown",
      "source": [
        "# List all the **data properties** in this ontology:"
      ],
      "metadata": {
        "id": "cewrVT6qq40L"
      }
    },
    {
      "cell_type": "code",
      "source": [
        "list(onto.data_properties())"
      ],
      "metadata": {
        "colab": {
          "base_uri": "https://localhost:8080/"
        },
        "id": "BESAFGCxiPZ8",
        "outputId": "490cba5b-d869-4c53-812f-34ae20e92ae6"
      },
      "execution_count": null,
      "outputs": [
        {
          "output_type": "execute_result",
          "data": {
            "text/plain": [
              "[core.notation, skos-xl.literalForm, prov.endedAtTime, prov.startedAtTime]"
            ]
          },
          "metadata": {},
          "execution_count": 9
        }
      ]
    },
    {
      "cell_type": "markdown",
      "source": [
        "# PART II -- SPARQL Queries\n"
      ],
      "metadata": {
        "id": "h6Z77XgSjAzd"
      }
    },
    {
      "cell_type": "markdown",
      "source": [
        "# Query 1. What warrants the change in a particular exhibit (document)?\n"
      ],
      "metadata": {
        "id": "Zn_okbUAnxtJ"
      }
    },
    {
      "cell_type": "code",
      "source": [
        "# Find everything (all individuals) that EPC_144-S30.1 cites --> What warrants the change?\n",
        "# Change the IRI if you would like to examine another example\n",
        "\n",
        "list(default_world.sparql(\"\"\"\n",
        "PREFIX ProvKOS:<https://w3id.org/def/ProvKOS#>\n",
        "           SELECT ?warrant\n",
        "           {<http://example.org#EPC_144-S30.1> ProvKOS:cite ?warrant }\n",
        "\"\"\"))"
      ],
      "metadata": {
        "colab": {
          "base_uri": "https://localhost:8080/"
        },
        "id": "22XY62AvhJ13",
        "outputId": "b2378591-bc4b-4f42-92ed-67d9fb1b63cb"
      },
      "execution_count": null,
      "outputs": [
        {
          "output_type": "execute_result",
          "data": {
            "text/plain": [
              "[[doi:10.4103.0253-7176.175131],\n",
              " [example.org.DSM-5],\n",
              " [example.org.KOS_Concept_2],\n",
              " [example.org.KOS_Concept_3],\n",
              " [paraphilic-disorders.transvestic-disorder]]"
            ]
          },
          "metadata": {},
          "execution_count": 47
        }
      ]
    },
    {
      "cell_type": "markdown",
      "source": [
        "# Query 2-1. How many terms underwent revisions?\n"
      ],
      "metadata": {
        "id": "Gl7-8d0qnmbh"
      }
    },
    {
      "cell_type": "code",
      "source": [
        "list(default_world.sparql(\"\"\"\n",
        "PREFIX prov: <http://www.w3.org/ns/prov#>\n",
        "SELECT (COUNT(DISTINCT ?subject) AS ?subjectCount)\n",
        "WHERE {\n",
        "  ?subject prov:wasRevisionOf ?object.\n",
        "}\n",
        "    \"\"\"))\n"
      ],
      "metadata": {
        "colab": {
          "base_uri": "https://localhost:8080/"
        },
        "id": "tSFv1QWSfHab",
        "outputId": "1af46c7a-4a7b-4b64-b401-85350b1966d8"
      },
      "execution_count": null,
      "outputs": [
        {
          "output_type": "execute_result",
          "data": {
            "text/plain": [
              "[[5]]"
            ]
          },
          "metadata": {},
          "execution_count": 28
        }
      ]
    },
    {
      "cell_type": "markdown",
      "source": [
        "# Query 2-2. Which ones are revised? From what?"
      ],
      "metadata": {
        "id": "s9U1wlIKoVYA"
      }
    },
    {
      "cell_type": "code",
      "source": [
        "list(default_world.sparql(\"\"\"\n",
        "PREFIX prov: <http://www.w3.org/ns/prov#>\n",
        "SELECT ?subject ?object\n",
        "WHERE {\n",
        "  ?subject prov:wasRevisionOf ?object.\n",
        "}\n",
        "    \"\"\"))\n",
        "\n"
      ],
      "metadata": {
        "colab": {
          "base_uri": "https://localhost:8080/"
        },
        "id": "I2RYYmkmd5Za",
        "outputId": "520a7b64-b117-42f7-85ea-aa967595fde5"
      },
      "execution_count": null,
      "outputs": [
        {
          "output_type": "execute_result",
          "data": {
            "text/plain": [
              "[[deweyldws01dxm1.dev.oclc.org.304.8, deweyldws01dxm1.dev.oclc.org.304.82],\n",
              " [deweyldws01dxm1.dev.oclc.org.306.777, deweyldws01dxm1.dev.oclc.org.306.778],\n",
              " [example.org.Depressive_disorder_and_dysphoria,\n",
              "  example.org.Depressive_disorder],\n",
              " [example.org.Sexual_disorders,\n",
              "  example.org.Sexual_disorders_and_gender-identity_disorders],\n",
              " [prov-o-20130430.ontology106, 'http://www.w3.org/ns/prov-o-20120312']]"
            ]
          },
          "metadata": {},
          "execution_count": 27
        }
      ]
    },
    {
      "cell_type": "markdown",
      "source": [
        "# Query 3. Which individuals have had changes in the year 2023?"
      ],
      "metadata": {
        "id": "lz_wMaRWn9e4"
      }
    },
    {
      "cell_type": "code",
      "source": [
        "list(default_world.sparql(\"\"\"\n",
        "PREFIX prov: <http://www.w3.org/ns/prov#>\n",
        "\n",
        "SELECT DISTINCT ?individual\n",
        "WHERE {\n",
        "  ?individual ?property ?date .\n",
        "  FILTER (\n",
        "    ?date >= \"2023-01-01T00:00:00\"^^xsd:dateTime &&\n",
        "    ?date <= \"2023-12-31T23:59:59\"^^xsd:dateTime\n",
        "  )\n",
        "}\n",
        "    \"\"\"))\n"
      ],
      "metadata": {
        "colab": {
          "base_uri": "https://localhost:8080/"
        },
        "id": "B--tNIVef8Sy",
        "outputId": "66a11e16-4e1b-4544-ffaf-c510c2976f56"
      },
      "execution_count": null,
      "outputs": [
        {
          "output_type": "execute_result",
          "data": {
            "text/plain": [
              "[[23.349268], [23.349210], [23.349291], [23.349292], [23.349269]]"
            ]
          },
          "metadata": {},
          "execution_count": 29
        }
      ]
    },
    {
      "cell_type": "markdown",
      "source": [
        "# Query 4: What happens to the label \"Migration\" in 2023?"
      ],
      "metadata": {
        "id": "_AA8ISwG1E4F"
      }
    },
    {
      "cell_type": "code",
      "source": [
        "\n",
        "# Define the SPARQL query\n",
        "query = \"\"\"\n",
        "PREFIX prov: <http://www.w3.org/ns/prov#>\n",
        "PREFIX xsd: <http://www.w3.org/2001/XMLSchema#>\n",
        "PREFIX rdf: <http://www.w3.org/1999/02/22-rdf-syntax-ns#>\n",
        "PREFIX ProvKOS: <https://w3id.org/def/ProvKOS#>\n",
        "\n",
        "SELECT ?activity ?activityType ?newIndividual\n",
        "WHERE {\n",
        "  # Step 1: Identify activities associated with the \"Migration\" label in 2023\n",
        "     ?activity ?property ?date .\n",
        "    FILTER (\n",
        "      ?date >= \"2023-01-01T00:00:00\"^^xsd:dateTime &&\n",
        "      ?date <= \"2023-12-31T23:59:59\"^^xsd:dateTime\n",
        "  )\n",
        "\n",
        "  # Step 2: Determine if \"Migration\" was invalidated\n",
        "  <http://example.org#Migration> prov:wasInvalidatedBy ?activity .\n",
        "\n",
        "  # Step 3: Find specific activities and new labels if invalidated\n",
        "  ?activity rdf:type ?activityType .\n",
        "  FILTER (?activityType IN (ProvKOS:Replacement, ProvKOS:Truncation, ProvKOS:Expansion, ProvKOS:Relocation))\n",
        "\n",
        "  # Step 4: Retrieve the new label associated with the activities\n",
        "  ?newIndividual prov:wasGeneratedBy ?activity .\n",
        "}\n",
        "\"\"\"\n",
        "\n",
        "# Run the SPARQL query\n",
        "results = list(default_world.sparql(query))\n",
        "\n",
        "# Print the results\n",
        "for result in results:\n",
        "    print(result)\n"
      ],
      "metadata": {
        "id": "1sTe3rWA1DsE",
        "colab": {
          "base_uri": "https://localhost:8080/"
        },
        "outputId": "04551965-d905-4190-b987-9b7585de4023"
      },
      "execution_count": null,
      "outputs": [
        {
          "output_type": "stream",
          "name": "stdout",
          "text": [
            "[23.349269, ProvKOS.Replacement, example.org.Immigration_to_specific_continents_countries]\n"
          ]
        }
      ]
    },
    {
      "cell_type": "markdown",
      "source": [
        "# This concludes the tutorial of ProvKOS!"
      ],
      "metadata": {
        "id": "FA3yEs4MtP8j"
      }
    }
  ]
}